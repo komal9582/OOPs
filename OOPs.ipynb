{
  "cells": [
    {
      "cell_type": "markdown",
      "source": [
        "#OOPs"
      ],
      "metadata": {
        "id": "jWCCZVI3nEqQ"
      }
    },
    {
      "cell_type": "markdown",
      "source": [
        "# Theory Question"
      ],
      "metadata": {
        "id": "crkFsUSAnKEp"
      }
    },
    {
      "cell_type": "markdown",
      "source": [
        "1. What is Object-Oriented Programming (OOP)?\n",
        "  >OOPS (Object-Oriented Programming) is a programming approach where everythink is modeled as object which can caintain data in the form of attributes and code in the form of methods. It provides principle like inhertance, encapsulation, abstraction etc."
      ],
      "metadata": {
        "id": "MPvlmTDqnd7J"
      }
    },
    {
      "cell_type": "markdown",
      "source": [
        "2. What is a class in OOP?\n",
        "  > Class is a blueprint/ template used to create object.it define properties and method and the object created from the class will have."
      ],
      "metadata": {
        "id": "KUjTTjoInjY2"
      }
    },
    {
      "cell_type": "markdown",
      "source": [
        "3. What is an object in OOP?\n",
        "  > Object is a real world entity (DOG, CAR, STUDENT) and in python it can be rectangle, area and other. An object is an instance of a class that holds actual data."
      ],
      "metadata": {
        "id": "Sd39Z4mZnuZ5"
      }
    },
    {
      "cell_type": "markdown",
      "source": [
        "4. What is the difference between abstraction and encapsulation?\n",
        "  > Abstraction is a conpect of hiding complex implementation unneeded details.\n",
        "\n",
        "  > Encapsulation is about to bunding the data and methods that operate on the data into a single unit and restricting direct access to some components."
      ],
      "metadata": {
        "id": "2HbLS6JTn0ZW"
      }
    },
    {
      "cell_type": "markdown",
      "source": [
        "5. What are dunder methods in Python?\n",
        "  > dunder methods in python is also know as magic, special mehtod. dunder method (Double underscore) before and after the name like __init__, __str__, __new__ and __repr__. these methods help to customise the basic opreation in a class."
      ],
      "metadata": {
        "id": "lHiofxVsn695"
      }
    },
    {
      "cell_type": "markdown",
      "source": [
        "6. Explain the concept of inheritance in OOP?\n",
        "  > Inheritance concept is refer to process receving the propertice of parentclass. And child class which can access the parents all properties and also access own properties."
      ],
      "metadata": {
        "id": "TnhE9KcFoCUD"
      }
    },
    {
      "cell_type": "markdown",
      "source": [
        "7.What is polymorphism in OOP.\n",
        "  > Poly mean many and morphism mean form and state. mean \"many form\" and allow some function or method to behave differently base on object and data type.\n",
        "\n",
        "  > Refer to an object taking severac from depending on the methods / data."
      ],
      "metadata": {
        "id": "qnX2solHoCzU"
      }
    },
    {
      "cell_type": "markdown",
      "source": [
        "8. How is encapsulation achieved in Python?\n",
        "  > Encapsulation in python is achieved using private and protect variable. Private variable are prefixed with '__' ,  and protect variable are prefixed with '_'."
      ],
      "metadata": {
        "id": "qhJJEfh8oIIu"
      }
    },
    {
      "cell_type": "markdown",
      "source": [
        "9. What is a constructor in Python?\n",
        "  >  A constructor is a special method in python, defined as '__int__' that is automatically called when an abjest of a class is create. It initialize the object's attribute."
      ],
      "metadata": {
        "id": "WiDesepuoIFY"
      }
    },
    {
      "cell_type": "markdown",
      "source": [
        "10. What are class and static methods in Python?\n",
        "  > Class Methods: These method bound to the class, not the instance. the use as @classmethod decoratore, and take cls as first parameter.\n",
        "  > Static Method: These method are not bound to the class or instance. Thew use of it @staticmethod decatotar, not take slf or cls as perameter."
      ],
      "metadata": {
        "id": "LkMAwU1woIAh"
      }
    },
    {
      "cell_type": "markdown",
      "source": [
        "11. What is method overloading in Python?\n",
        "   >. Method of overloading is the ability of difine multiple methods in a class with the same name but different parameters. However, pyhtob des not support  traditional methid overloading directly."
      ],
      "metadata": {
        "id": "uBY9co9foH5p"
      }
    },
    {
      "cell_type": "markdown",
      "source": [
        "12. What is method overriding in OOP?\n",
        ">.  Method of overriding accurs when a subclass define a method with the same name as s methid in its parent class, providiing a new implementation."
      ],
      "metadata": {
        "id": "lisaoj9BoH0V"
      }
    },
    {
      "cell_type": "markdown",
      "source": [
        "13. What is a property decorator in Python?\n",
        "  > A property decoratar, @property is used to make class method as an attribute. it allow to getter, setter, and deleter functionality for manage attribute in an elegant way."
      ],
      "metadata": {
        "id": "ZFuz5jB4oHuu"
      }
    },
    {
      "cell_type": "markdown",
      "source": [
        "14. Why is polymorphism important in OOP?\n",
        "  > Polymorphism allow for flexibilty and resuability by letting object of different type be treated as object of comman supertype."
      ],
      "metadata": {
        "id": "sYOJEjpQoHpT"
      }
    },
    {
      "cell_type": "markdown",
      "source": [
        "15. What is an abstract class in Python?\n",
        "   > Abtract class in python is concept of hiding complex implementation, unneeded detail and explosing the required. In abtracttion >> import abc module."
      ],
      "metadata": {
        "id": "owVj5kIcoHjS"
      }
    },
    {
      "cell_type": "markdown",
      "source": [
        "16. What are the advantages of OOP?\n",
        "  >1. Modularity(code organization)- code is divided into small unit classes and easy to understand,maintain, and debug.\n",
        "  >2. Reuesablity- we can resuse classes across different program.\n",
        "  >3. Inheritance - child classes reuse parent class code.\n",
        "  and so many advantages like, polymorphism, Encapsulation, Abstraction, real world mapping and extra."
      ],
      "metadata": {
        "id": "daNIyoszoHcf"
      }
    },
    {
      "cell_type": "markdown",
      "source": [
        "17. What is the difference between a class variable and an instance variable?\n",
        "  > Class variable shared by all instance of a class. Defined within the class but outside any methods.\n",
        "\n",
        "  > Instance variable unique to each of instance of a class. Defined inside a consdructor or method using self."
      ],
      "metadata": {
        "id": "NCkaRUrboHES"
      }
    },
    {
      "cell_type": "markdown",
      "source": [
        "18. What is multiple inheritance in Python?\n",
        "  > Multiple inheretance is a feature in python where class can inherit attribute more than one parent class."
      ],
      "metadata": {
        "id": "NdvYFOk4oG79"
      }
    },
    {
      "cell_type": "markdown",
      "source": [
        "19. Explain the purpose of ‘’__str__’ and ‘__repr__’ ‘ methods in Python.\n",
        "  > '__str__' : used to provide a human-readable representation of an object, use with print() function.\n",
        "\n",
        "  >'__repr__' : used to provide a developer-friendly representation of an object."
      ],
      "metadata": {
        "id": "w92MorVmoGzB"
      }
    },
    {
      "cell_type": "markdown",
      "source": [
        "20. What is the significance of the ‘super()’ function in Python?\n",
        "  >The super() function is called to call the parents class method of construction from the child class. IT ensures proper initialization in the inhertance chain."
      ],
      "metadata": {
        "id": "Jc8qX01PoGpO"
      }
    },
    {
      "cell_type": "markdown",
      "source": [
        "21. What is the significance of the __del__ method in Python?\n",
        "  > __del__ method in python used for delete destoryed an object. it use for such a cleaup, releasing resource of closing files."
      ],
      "metadata": {
        "id": "N8yJvE0GoGf3"
      }
    },
    {
      "cell_type": "markdown",
      "source": [
        "22. What is the difference between @staticmethod and @classmethod in Python?\n",
        "  > @staticmethod : Define a method that does not require access to instance or the class. It is independant in both.  \n",
        "\n",
        "  > @classmethod : Define a method that take the class as its first parameter (cls). it can modify class level attributes but cannot access instance level attribute."
      ],
      "metadata": {
        "id": "nRCRdHA9oGVj"
      }
    },
    {
      "cell_type": "markdown",
      "source": [
        "23. How does polymorphism work in Python with inheritance?\n",
        "   > polymorphism allow the method in different classes to have the same name but different implementation. With inheretance, subclass con override a method from the parents class, enabling different behaviors for object of different types."
      ],
      "metadata": {
        "id": "CovGSX11oGK9"
      }
    },
    {
      "cell_type": "markdown",
      "source": [
        "24. What is method chaining in Python OOP?\n",
        "  > Method chaining is a programming technique where mutliple method call are made in a single line. it allow to call methods on an object one after another."
      ],
      "metadata": {
        "id": "puBohKHvoGAA"
      }
    },
    {
      "cell_type": "markdown",
      "source": [
        "25. What is the purpose of the __call__ method in Python?\n",
        "  > the __call__ method allow an instance of a class to be as a function. by implementation of this methods, we can make object callable and pass argumenets turing an object into function.  "
      ],
      "metadata": {
        "id": "H2ttKrWvoFhW"
      }
    },
    {
      "cell_type": "markdown",
      "source": [
        "# Practical Question"
      ],
      "metadata": {
        "id": "wRXLYQ1BqC3C"
      }
    },
    {
      "cell_type": "markdown",
      "source": [
        "1. Create a parent class Animal with a method speak() that prints a generic message. Create a child class Dog\n",
        "that overrides the speak() method to print \"Bark!\"."
      ],
      "metadata": {
        "id": "EElUmiquqaHA"
      }
    },
    {
      "cell_type": "code",
      "source": [
        "class Animal:  #parent class\n",
        "  def animal_speak(self):\n",
        "    print(\"Animal speak diffrent voice\")\n",
        "\n",
        "class Dog(Animal):  # child class dog\n",
        "  def dog_speak(self):\n",
        "    print(\"Bark!\")\n",
        "\n",
        "animal_obj = Animal()\n",
        "dog_obj = Dog()\n",
        "\n",
        "animal_obj.animal_speak()\n",
        "dog_obj.dog_speak()"
      ],
      "metadata": {
        "colab": {
          "base_uri": "https://localhost:8080/"
        },
        "id": "QzCJv_zVSuFL",
        "outputId": "a447b696-cc0d-4737-a87f-b61953e7d641"
      },
      "execution_count": 23,
      "outputs": [
        {
          "output_type": "stream",
          "name": "stdout",
          "text": [
            "Animal speak diffrent voice\n",
            "Bark!\n"
          ]
        }
      ]
    },
    {
      "cell_type": "markdown",
      "source": [
        "2. Write a program to create an abstract class Shape with a method area(). Derive classes Circle and Rectangle\n",
        "from it and implement the area() method in both."
      ],
      "metadata": {
        "id": "d7OaWuoTqeHq"
      }
    },
    {
      "cell_type": "code",
      "source": [
        "from abc import ABC, abstractmethod\n",
        "\n",
        "class Shape(ABC):\n",
        "  @abstractmethod\n",
        "  def cal_area(self):\n",
        "    pass\n",
        "class Circle(Shape):\n",
        "  def cal_area(self):\n",
        "    return \"Area of circle is pi r**2\"\n",
        "class Rectangle(Shape):\n",
        "  def cal_area(self):\n",
        "    return \"Area of rectangle is len*breath\"\n",
        "\n",
        "rect = Rectangle()\n",
        "print(rect.cal_area())\n",
        "circle = Circle()\n",
        "print(circle.cal_area())"
      ],
      "metadata": {
        "colab": {
          "base_uri": "https://localhost:8080/"
        },
        "id": "AAplHDl1Oixj",
        "outputId": "f262c5c3-a9b8-4663-861e-f56370848771"
      },
      "execution_count": 24,
      "outputs": [
        {
          "output_type": "stream",
          "name": "stdout",
          "text": [
            "Area of rectangle is len*breath\n",
            "Area of circle is pi r**2\n"
          ]
        }
      ]
    },
    {
      "cell_type": "markdown",
      "source": [
        "3. Implement a multi-level inheritance scenario where a class Vehicle has an attribute type. Derive a class Car\n",
        "and further derive a class ElectricCar that adds a battery attribute."
      ],
      "metadata": {
        "id": "4IpLLIvBqeC1"
      }
    },
    {
      "cell_type": "code",
      "source": [
        "#Base class\n",
        "class Vehicle:\n",
        "  def __init__(self, vehicle_type):\n",
        "    self.vehicle_type = vehicle_type\n",
        "  def show_info(self):\n",
        "    return f\"Vehicle Type: {self.vehicle_type}\"\n",
        "\n",
        "#First child class\n",
        "class Car(Vehicle):\n",
        "  def __init__(self, vehicle_type, brand, model):\n",
        "    super().__init__(vehicle_type)\n",
        "    self.brand = brand\n",
        "    self.model = model\n",
        "  def show_info(self):\n",
        "    return f\"{super().show_info()}, Car: {self.brand} {self.model}\"\n",
        "\n",
        "# second child class (grandchild class)\n",
        "class ElectricCar(Car): # Inherit from Car\n",
        "  def __init__(self, vehicle_type, brand, model, battery_capacity):\n",
        "    super().__init__(vehicle_type, brand, model) # Pass arguments to Car's __init__\n",
        "    self.battery_capacity = battery_capacity\n",
        "\n",
        "  def show_info(self):\n",
        "    return (f\"{super().show_info()}, Battery: {self.battery_capacity}kWh\")\n",
        "\n",
        "\n",
        "tesla = ElectricCar(\"four-wheeler\",\"Tesla\",\"Model S\", 100)\n",
        "print(tesla.show_info())"
      ],
      "metadata": {
        "colab": {
          "base_uri": "https://localhost:8080/"
        },
        "id": "9QLqiBZea536",
        "outputId": "5dcde767-936d-4d4c-b987-290b7f69d63d"
      },
      "execution_count": 25,
      "outputs": [
        {
          "output_type": "stream",
          "name": "stdout",
          "text": [
            "Vehicle Type: four-wheeler, Car: Tesla Model S, Battery: 100kWh\n"
          ]
        }
      ]
    },
    {
      "cell_type": "markdown",
      "source": [
        "4. Demonstrate polymorphism by creating a base class Bird with a method fly(). Create two derived classes\n",
        "Sparrow and Penguin that override the fly() method.\n"
      ],
      "metadata": {
        "id": "2mo97pSfqd_g"
      }
    },
    {
      "cell_type": "code",
      "source": [
        "# Base class\n",
        "class Bird:\n",
        "  def fly(self):\n",
        "    return \"Bird can generally fly.\"\n",
        "\n",
        "#subclass Sparrow\n",
        "class Sparrow(Bird):\n",
        "  def fly(self):\n",
        "    return \"Sparrow can gly high and fast.\"\n",
        "\n",
        "# subclass Penguin\n",
        "class Penguin(Bird):\n",
        "  def fly(self):\n",
        "    return \"Penguin cannnot fly, they swim insted.\"\n",
        "\n",
        "# polymorphism action\n",
        "def bird_fly_test(bird_obj):\n",
        "  print(bird_obj.fly())\n",
        "\n",
        "# create object\n",
        "sparrow = Sparrow()\n",
        "penguin = Penguin()\n",
        "\n",
        "bird_fly_test(sparrow)\n",
        "bird_fly_test(penguin)"
      ],
      "metadata": {
        "colab": {
          "base_uri": "https://localhost:8080/"
        },
        "id": "5vkkcxoejfgX",
        "outputId": "21dfc655-8b9e-49b0-9eb8-24df59490651"
      },
      "execution_count": 26,
      "outputs": [
        {
          "output_type": "stream",
          "name": "stdout",
          "text": [
            "Sparrow can gly high and fast.\n",
            "Penguin cannnot fly, they swim insted.\n"
          ]
        }
      ]
    },
    {
      "cell_type": "markdown",
      "source": [
        "5. Write a program to demonstrate encapsulation by creating a class BankAccount with private attributes\n",
        "balance and methods to deposit, withdraw, and check balance."
      ],
      "metadata": {
        "id": "WnSGYKiAr0oh"
      }
    },
    {
      "cell_type": "code",
      "source": [
        "# Private attribute class\n",
        "class BankAccount:\n",
        "  def __init__(self, owner, balance=0):\n",
        "    self.owner = owner\n",
        "    self.__balance = balance # private attribute\n",
        "  def deposit(self, amount): # Deposite method\n",
        "    if amount >0:\n",
        "      print(f\"Deposite:{amount}\")\n",
        "    else:\n",
        "      print(\"Deposit amount muste be positive.\")\n",
        "  def withdraw(self, amount): # withdrow method\n",
        "    if 0 < amount <=self.__balance:\n",
        "      self.__balance-= amount\n",
        "      print(f\"withdraw: {amount}\")\n",
        "    else:\n",
        "      print(\"Insuffcient funds or invaid amount.\")\n",
        "\n",
        "  def check_balance(self):\n",
        "    return f\"Current balance:{self.__balance}\"\n",
        "\n",
        "acc = BankAccount(\"Komal\", 10000)\n",
        "acc.deposit(500)\n",
        "acc.withdraw(1000)\n",
        "print(acc.check_balance())\n",
        "#print(acc.__balance) #give the error: AttributeError"
      ],
      "metadata": {
        "colab": {
          "base_uri": "https://localhost:8080/"
        },
        "id": "JeP3S8k9nBJr",
        "outputId": "95208c06-41d5-46af-bcf4-7fff91c4054f"
      },
      "execution_count": 27,
      "outputs": [
        {
          "output_type": "stream",
          "name": "stdout",
          "text": [
            "Deposite:500\n",
            "withdraw: 1000\n",
            "Current balance:9000\n"
          ]
        }
      ]
    },
    {
      "cell_type": "markdown",
      "source": [
        "6. Demonstrate runtime polymorphism using a method play() in a base class Instrument. Derive classes Guitar\n",
        "and Piano that implement their own version of play()."
      ],
      "metadata": {
        "id": "n-v2QGkFqd6G"
      }
    },
    {
      "cell_type": "code",
      "source": [
        "#Base class\n",
        "class Instrument:\n",
        "  def play(self):\n",
        "    return \"Instrument play sound.\"\n",
        "\n",
        "#subclass Guitar\n",
        "class Guitar(Instrument):\n",
        "  def play(self):\n",
        "    return \"Guitar can be play sound.\"\n",
        "\n",
        "#subclass Piano\n",
        "class Piano(Instrument):\n",
        "  def play(self):\n",
        "    return \"Piano can be play sound.\"\n",
        "\n",
        "# Polymorphism method\n",
        "def instru_play_test(instru_obj):\n",
        "  print(instru_obj.play())\n",
        "\n",
        "# create object\n",
        "guitar = Guitar()\n",
        "piano = Piano()\n",
        "\n",
        "instru_play_test(guitar)\n",
        "instru_play_test(piano)"
      ],
      "metadata": {
        "colab": {
          "base_uri": "https://localhost:8080/"
        },
        "id": "8C79e3FcsCGW",
        "outputId": "8f08c91b-f074-4b2e-abfa-cee079fd2a1a"
      },
      "execution_count": 5,
      "outputs": [
        {
          "output_type": "stream",
          "name": "stdout",
          "text": [
            "Guitar can be play sound.\n",
            "Piano can be play sound.\n"
          ]
        }
      ]
    },
    {
      "cell_type": "markdown",
      "source": [
        "7. Create a class MathOperations with a class method add_numbers() to add two numbers and a static\n",
        "method subtract_numbers() to subtract two numbers."
      ],
      "metadata": {
        "id": "k1BVXqrCqd1c"
      }
    },
    {
      "cell_type": "code",
      "source": [
        "# class method\n",
        "class MathOperations:\n",
        "  @classmethod\n",
        "  def add_numbers(cls, a, b):\n",
        "    return a + b\n",
        "\n",
        "  @staticmethod\n",
        "  def subtract_numbers(a, b):\n",
        "    return a - b\n",
        "\n",
        "print(\"Addtion:\", MathOperations.add_numbers(983, 738))\n",
        "print(\"Substraction:\", MathOperations.subtract_numbers(73, 23))"
      ],
      "metadata": {
        "colab": {
          "base_uri": "https://localhost:8080/"
        },
        "id": "AUflzOWOwQtG",
        "outputId": "a9c89cb4-be9d-4bdd-e59a-ae9baf57e9cf"
      },
      "execution_count": 10,
      "outputs": [
        {
          "output_type": "stream",
          "name": "stdout",
          "text": [
            "Addtion: 1721\n",
            "Substraction: 50\n"
          ]
        }
      ]
    },
    {
      "cell_type": "markdown",
      "source": [
        "8. Implement a class Person with a class method to count the total number of persons created."
      ],
      "metadata": {
        "id": "J6YMBiMaqdyE"
      }
    },
    {
      "cell_type": "code",
      "source": [
        "class Person:\n",
        "  total_person = 0\n",
        "  def __init__(self, name):\n",
        "    self.name = name\n",
        "    Person.total_person += 1\n",
        "\n",
        "  @classmethod\n",
        "  def get_total_persons(cls):\n",
        "    return cls.total_person\n",
        "\n",
        "p1 = Person(\"Komal\")\n",
        "p2 = Person(\"madhav\")\n",
        "p3 = Person(\"Arun\")\n",
        "print(\"Total persons created:\", Person.get_total_persons())"
      ],
      "metadata": {
        "colab": {
          "base_uri": "https://localhost:8080/"
        },
        "id": "-kGQC9qS1mSE",
        "outputId": "7f7114cf-2797-4951-fee8-5bbb83f61f7d"
      },
      "execution_count": 12,
      "outputs": [
        {
          "output_type": "stream",
          "name": "stdout",
          "text": [
            "Total persons created: 3\n"
          ]
        }
      ]
    },
    {
      "cell_type": "markdown",
      "source": [
        "9. Write a class Fraction with attributes numerator and denominator. Override the str method to display the\n",
        "fraction as \"numerator/denominator\"."
      ],
      "metadata": {
        "id": "IxrDgcFTqdtZ"
      }
    },
    {
      "cell_type": "code",
      "source": [
        "class Faction:\n",
        "  def __init__(self,numerator, denominator):\n",
        "    self.numerator = numerator\n",
        "    self.denominator = denominator\n",
        "\n",
        "    #Override __str__method\n",
        "  def __str__(self):\n",
        "    return f\"{self.numerator}/{self.denominator}\"\n",
        "\n",
        "f1 = Faction(3,4)\n",
        "f2 = Faction(7,2)\n",
        "\n",
        "print(f1)\n",
        "print(f2)"
      ],
      "metadata": {
        "colab": {
          "base_uri": "https://localhost:8080/"
        },
        "id": "iuni-vLJ3wci",
        "outputId": "b1bb6950-2459-4e1c-a869-a490ed62b145"
      },
      "execution_count": 14,
      "outputs": [
        {
          "output_type": "stream",
          "name": "stdout",
          "text": [
            "3/4\n",
            "7/2\n"
          ]
        }
      ]
    },
    {
      "cell_type": "markdown",
      "source": [
        "10. Demonstrate operator overloading by creating a class Vector and overriding the add method to add two\n",
        "vectors."
      ],
      "metadata": {
        "id": "lUtyao1CqdpC"
      }
    },
    {
      "cell_type": "code",
      "source": [
        "class Vector:\n",
        "  def __init__(self, x,y):\n",
        "    self.x = x\n",
        "    self.y = y\n",
        "\n",
        "  #Override the + operator\n",
        "  def __add__(self, other):\n",
        "    return Vector(self.x + other.x, self.y + other.y)\n",
        "\n",
        "  # to print vector nicely\n",
        "  def __str__(self):\n",
        "    return f\"Vector({self.x}, {self.y})\"\n",
        "\n",
        "v1 = Vector(2, 3)\n",
        "v2 = Vector(4, 5)\n",
        "v3 = v1 + v2\n",
        "print(\"First vector:\", v1)\n",
        "print(\"Second vector:\", v2)\n",
        "print(\"Result of Addition:\", v3)"
      ],
      "metadata": {
        "colab": {
          "base_uri": "https://localhost:8080/"
        },
        "id": "J2aZ44elCnO5",
        "outputId": "9f2e4953-9c5d-4e8a-9d22-de6624523872"
      },
      "execution_count": 18,
      "outputs": [
        {
          "output_type": "stream",
          "name": "stdout",
          "text": [
            "First vector: Vector(2, 3)\n",
            "Second vector: Vector(4, 5)\n",
            "Result of Addition: Vector(6, 8)\n"
          ]
        }
      ]
    },
    {
      "cell_type": "markdown",
      "source": [
        "11. Create a class Person with attributes name and age. Add a method greet() that prints \"Hello, my name is\n",
        "{name} and I am {age} years old.\""
      ],
      "metadata": {
        "id": "FhQVY0EDqdi2"
      }
    },
    {
      "cell_type": "code",
      "source": [
        "class Person:\n",
        "  def __init__(self, name, age):\n",
        "    self.name = name\n",
        "    self.age = age\n",
        "\n",
        "  def greet(self):\n",
        "    print(f\"Hello, my name is {self.name} and I am {self.age} years old.\")\n",
        "\n",
        "p = Person(\"komal\", 21)\n",
        "p.greet()"
      ],
      "metadata": {
        "colab": {
          "base_uri": "https://localhost:8080/"
        },
        "id": "QaE_ebrsLWge",
        "outputId": "c29c717a-8192-4785-da88-bb70469c4dcc"
      },
      "execution_count": 25,
      "outputs": [
        {
          "output_type": "stream",
          "name": "stdout",
          "text": [
            "Hello, my namekomal and i am 21 year old\n"
          ]
        }
      ]
    },
    {
      "cell_type": "markdown",
      "source": [
        "12. Implement a class Student with attributes name and grades. Create a method average_grade() to compute\n",
        "the average of the grades."
      ],
      "metadata": {
        "id": "M74Fhg2Gqdfe"
      }
    },
    {
      "cell_type": "code",
      "source": [
        "class Student:\n",
        "  def __init__(self, name, grades):\n",
        "    self.name = name\n",
        "    self.grades = grades # Corrected assignment\n",
        "\n",
        "    #method compute of average grades\n",
        "  def average_grades(self):\n",
        "    if not self.grades:\n",
        "      return 0\n",
        "    return sum(self.grades) / len(self.grades)\n",
        "\n",
        "s1 = Student(\"komal\", [98, 96, 95, 94]) # Pass grades as a list\n",
        "s2 = Student(\"uttam\", [90, 84, 74, 97]) # Pass grades as a list\n",
        "\n",
        "print(f\"{s1.name}, Average grades:{s1.average_grades():.2f}\")\n",
        "print(f\"{s2.name}, Average grades:{s2.average_grades():.2f}\")"
      ],
      "metadata": {
        "colab": {
          "base_uri": "https://localhost:8080/"
        },
        "id": "DBWkxxSlR41N",
        "outputId": "9993f4ef-7f33-4445-b0f3-71226981f50d"
      },
      "execution_count": 8,
      "outputs": [
        {
          "output_type": "stream",
          "name": "stdout",
          "text": [
            "komal, Average grades:95.75\n",
            "uttam, Average grades:86.25\n"
          ]
        }
      ]
    },
    {
      "cell_type": "markdown",
      "source": [
        "13. Create a class Rectangle with methods set_dimensions() to set the dimensions and area() to calculate the\n",
        "area.\n",
        "\n",
        "\n"
      ],
      "metadata": {
        "id": "4A2eBI2EqdZm"
      }
    },
    {
      "cell_type": "code",
      "source": [
        "class Rectangle:\n",
        "  def __init__(self):\n",
        "    self.length = 0\n",
        "    self.width = 0\n",
        "\n",
        "  # method of set dimensions\n",
        "  def set_dimensions(self, length, width):\n",
        "    self.length = length\n",
        "    self.width = width\n",
        "\n",
        "  # calculate are\n",
        "  def area(self):\n",
        "    return self.length * self.width\n",
        "\n",
        "rect = Rectangle()\n",
        "rect.set_dimensions(10,5)\n",
        "print(\"Area of Rectangle:\", rect.area())"
      ],
      "metadata": {
        "colab": {
          "base_uri": "https://localhost:8080/"
        },
        "id": "_oawSzt525mg",
        "outputId": "0c410013-fcf5-4a6c-880c-9228e07ca111"
      },
      "execution_count": 12,
      "outputs": [
        {
          "output_type": "stream",
          "name": "stdout",
          "text": [
            "Area of Rectangle: 50\n"
          ]
        }
      ]
    },
    {
      "cell_type": "markdown",
      "source": [
        "14. Create a class Employee with a method calculate_salary() that computes the salary based on hours worked\n",
        "and hourly rate. Create a derived class Manager that adds a bonus to the salary."
      ],
      "metadata": {
        "id": "G8oaKekAqdUk"
      }
    },
    {
      "cell_type": "code",
      "source": [
        "class Employee:\n",
        "  def __init__(self, name, worked_hour, hourly_rate):\n",
        "    self.name = name\n",
        "    self.worked_hour = worked_hour\n",
        "    self.hourly_rate = hourly_rate\n",
        "\n",
        "  # calculate salary\n",
        "  def calculate_salary(self):\n",
        "    return self.worked_hour * self.hourly_rate\n",
        "\n",
        "#Dericed class for manager\n",
        "class Manager(Employee):\n",
        "  def __init__(self, name, worked_hour, hourly_rate, bonus):\n",
        "    super().__init__(name, worked_hour, hourly_rate) # Corrected super().__init__ call\n",
        "    self.bonus = bonus\n",
        "\n",
        "  def calculate_salary(self): # Corrected method name\n",
        "    base_salary = super().calculate_salary()\n",
        "    return base_salary + self.bonus # Corrected salary calculation\n",
        "\n",
        "em = Employee(\"komal\", 8, 50) #8hr $50\n",
        "mang = Manager(\"Ritika\", 20, 60, 10) #20hr $60 bonus10\n",
        "\n",
        "print(f\"{em.name}'s salary:,${em.calculate_salary()}\")\n",
        "print(f\"{mang.name}'s salary:,${mang.calculate_salary()}\")"
      ],
      "metadata": {
        "colab": {
          "base_uri": "https://localhost:8080/"
        },
        "id": "VDpqH5Z55H9y",
        "outputId": "7b4b5b9f-ecee-42a2-bd63-bf59b34e0b0c"
      },
      "execution_count": 15,
      "outputs": [
        {
          "output_type": "stream",
          "name": "stdout",
          "text": [
            "komal's salary:,$400\n",
            "Ritika's salary:,$1210\n"
          ]
        }
      ]
    },
    {
      "cell_type": "markdown",
      "source": [
        "15. Create a class Product with attributes name, price, and quantity. Implement a method total_price() that\n",
        "calculates the total price of the product.\n",
        "\n",
        "\n"
      ],
      "metadata": {
        "id": "KKv-qsrwqdPG"
      }
    },
    {
      "cell_type": "code",
      "source": [
        "class Product:\n",
        "  def __init__(self, name, price, quantity):\n",
        "    self.name = name\n",
        "    self.price = price\n",
        "    self.quantity = quantity\n",
        "\n",
        "  def total_price(self):\n",
        "    return self.price * self.quantity\n",
        "\n",
        "p1 = Product(\"laptop\", 60000, 8)\n",
        "p2 = Product(\"phone\", 20000, 2)\n",
        "print(f\"{p1.name}, Total Price ₹{p1.total_price()}\")\n",
        "print(f\"{p2.name}, Total Price ₹{p2.total_price()}\")"
      ],
      "metadata": {
        "colab": {
          "base_uri": "https://localhost:8080/"
        },
        "id": "-lpUMxTK_rLQ",
        "outputId": "d8c6d392-bab9-43ae-a747-1a1690ded914"
      },
      "execution_count": 18,
      "outputs": [
        {
          "output_type": "stream",
          "name": "stdout",
          "text": [
            "laptop, Total Price ₹480000\n",
            "phone, Total Price ₹40000\n"
          ]
        }
      ]
    },
    {
      "cell_type": "markdown",
      "source": [
        "16. Create a class Animal with an abstract method sound(). Create two derived classes Cow and Sheep that\n",
        "implement the sound() method."
      ],
      "metadata": {
        "id": "c7s2hrpHqdIz"
      }
    },
    {
      "cell_type": "code",
      "source": [
        "from abc import ABC, abstractmethod\n",
        "# Abstract base class\n",
        "class Animal(ABC):\n",
        "  @abstractmethod\n",
        "  def sound(self):\n",
        "    pass\n",
        "\n",
        "# Derived class cow\n",
        "class Cow(Animal):\n",
        "  def sound(self):\n",
        "    return \"MOO\"\n",
        "\n",
        "# Derived class sheep\n",
        "class Sheep(Animal):\n",
        "  def sound(self):\n",
        "    return \"Baa\"\n",
        "\n",
        "animals = [Cow(), Sheep()]\n",
        "\n",
        "for animal in animals:\n",
        "    print(f\"{animal.__class__.__name__} sound: {animal.sound()}\")\n"
      ],
      "metadata": {
        "colab": {
          "base_uri": "https://localhost:8080/"
        },
        "id": "pn7ClI3LCuDd",
        "outputId": "acb62b3e-225e-4f35-c703-f22fac638023"
      },
      "execution_count": 19,
      "outputs": [
        {
          "output_type": "stream",
          "name": "stdout",
          "text": [
            "Cow sound: MOO\n",
            "Sheep sound: Baa\n"
          ]
        }
      ]
    },
    {
      "cell_type": "markdown",
      "source": [
        "17. Create a class Book with attributes title, author, and year_published. Add a method get_book_info() that\n",
        "returns a formatted string with the book's details."
      ],
      "metadata": {
        "id": "DtNJwN49qdCN"
      }
    },
    {
      "cell_type": "code",
      "source": [
        "class Book:\n",
        "  def __init__(self, title, author, year_published):\n",
        "    self.title = title\n",
        "    self.author = author\n",
        "    self.year_published = year_published\n",
        "\n",
        "  #Method formatted the books details.\n",
        "  def get_book_info(self):\n",
        "    return f\"'{self.title}' by {self.author} published in {self.year_published}\"\n",
        "\n",
        "b1 = Book(\"The Dairy of a young girl\", \"Anne frank\", 1957 )\n",
        "b2 = Book(\"A LIITLE LIFE\", \"Hanya yanagihara\",2015)\n",
        "print(b1.get_book_info())\n",
        "print(b2.get_book_info())"
      ],
      "metadata": {
        "colab": {
          "base_uri": "https://localhost:8080/"
        },
        "id": "kVQwJ48AGJQ4",
        "outputId": "d7cdbbab-8b53-4164-a0f7-2dcbfa9fd025"
      },
      "execution_count": 20,
      "outputs": [
        {
          "output_type": "stream",
          "name": "stdout",
          "text": [
            "'The Dairy of a young girl' by Anne frank published in 1957\n",
            "'A LIITLE LIFE' by Hanya yanagihara published in 2015\n"
          ]
        }
      ]
    },
    {
      "cell_type": "markdown",
      "source": [
        "18. Create a class House with attributes address and price. Create a derived class Mansion that adds an\n",
        "attribute number_of_rooms."
      ],
      "metadata": {
        "id": "8zh4xvPRqc64"
      }
    },
    {
      "cell_type": "code",
      "source": [
        "class House:\n",
        "    def __init__(self, address, price):\n",
        "        self.address = address\n",
        "        self.price = price\n",
        "\n",
        "    def get_info(self):\n",
        "        return f\"House at {self.address}, Price: ₹{self.price}\"\n",
        "\n",
        "\n",
        "# Derived class\n",
        "class Mansion(House):\n",
        "    def __init__(self, address, price, number_of_rooms):\n",
        "        super().__init__(address, price)  # Call base class constructor\n",
        "        self.number_of_rooms = number_of_rooms\n",
        "\n",
        "    def get_info(self):\n",
        "        return f\"Mansion at {self.address}, Price: ₹{self.price}, Rooms: {self.number_of_rooms}\"\n",
        "\n",
        "\n",
        "# Example usage\n",
        "h1 = House(\"Kamla nager north delhi\", 50000000)\n",
        "m1 = Mansion(\"45 Elite Avenue\", 75000000, 6)\n",
        "\n",
        "print(h1.get_info())\n",
        "print(m1.get_info())\n"
      ],
      "metadata": {
        "colab": {
          "base_uri": "https://localhost:8080/"
        },
        "id": "IShEQsEuNQDR",
        "outputId": "658bfe12-18fc-4ef9-8ecd-fe253035f34d"
      },
      "execution_count": 22,
      "outputs": [
        {
          "output_type": "stream",
          "name": "stdout",
          "text": [
            "House at Kamla nager north delhi, Price: ₹50000000\n",
            "Mansion at 45 Elite Avenue, Price: ₹75000000, Rooms: 6\n"
          ]
        }
      ]
    }
  ],
  "metadata": {
    "colab": {
      "provenance": []
    },
    "kernelspec": {
      "display_name": "Python 3",
      "name": "python3"
    }
  },
  "nbformat": 4,
  "nbformat_minor": 0
}